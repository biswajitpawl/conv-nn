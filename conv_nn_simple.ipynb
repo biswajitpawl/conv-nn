{
  "nbformat": 4,
  "nbformat_minor": 0,
  "metadata": {
    "colab": {
      "name": "conv-nn-simple.ipynb",
      "provenance": [],
      "collapsed_sections": [],
      "authorship_tag": "ABX9TyM9onuQrSgCadloWzfXFAOm"
    },
    "kernelspec": {
      "name": "python3",
      "display_name": "Python 3"
    }
  },
  "cells": [
    {
      "cell_type": "markdown",
      "metadata": {
        "id": "9_-2qEv5cQ35",
        "colab_type": "text"
      },
      "source": [
        "## MNIST Classification"
      ]
    },
    {
      "cell_type": "code",
      "metadata": {
        "id": "v6sp-CFwZIBW",
        "colab_type": "code",
        "colab": {
          "base_uri": "https://localhost:8080/",
          "height": 102
        },
        "outputId": "f45b2056-8d6e-48ad-fdf2-437cf3637e56"
      },
      "source": [
        "!pip install mnist==0.2.2"
      ],
      "execution_count": 1,
      "outputs": [
        {
          "output_type": "stream",
          "text": [
            "Collecting mnist==0.2.2\n",
            "  Downloading https://files.pythonhosted.org/packages/c6/c4/5db3bfe009f8d71f1d532bbadbd0ec203764bba3a469e4703a889db8e5e0/mnist-0.2.2-py2.py3-none-any.whl\n",
            "Requirement already satisfied: numpy in /usr/local/lib/python3.6/dist-packages (from mnist==0.2.2) (1.18.5)\n",
            "Installing collected packages: mnist\n",
            "Successfully installed mnist-0.2.2\n"
          ],
          "name": "stdout"
        }
      ]
    },
    {
      "cell_type": "markdown",
      "metadata": {
        "id": "lT735_tZcJcD",
        "colab_type": "text"
      },
      "source": [
        "## Import necessary libraries"
      ]
    },
    {
      "cell_type": "code",
      "metadata": {
        "id": "PglviUPWcGpY",
        "colab_type": "code",
        "colab": {}
      },
      "source": [
        "import numpy as np\n",
        "import mnist\n",
        "import matplotlib.pyplot as plt\n",
        "\n",
        "%matplotlib inline\n",
        "plt.rcParams['figure.figsize'] = (9.0, 6.0) \n",
        "plt.rcParams['image.cmap'] = 'gray'"
      ],
      "execution_count": 2,
      "outputs": []
    },
    {
      "cell_type": "markdown",
      "metadata": {
        "id": "aXYRgjlIccch",
        "colab_type": "text"
      },
      "source": [
        "## Get training and test set of images"
      ]
    },
    {
      "cell_type": "code",
      "metadata": {
        "id": "N8GohM4SZf_D",
        "colab_type": "code",
        "colab": {
          "base_uri": "https://localhost:8080/",
          "height": 85
        },
        "outputId": "5447333b-7d91-4507-8aa5-3556e6c78fa7"
      },
      "source": [
        "train_images = mnist.train_images()[:1000]\n",
        "train_labels = mnist.train_labels()[:1000]\n",
        "\n",
        "test_images = mnist.test_images()[:1000]\n",
        "test_labels = mnist.test_labels()[:1000]\n",
        "\n",
        "print(\"Shape of training image data: \", train_images.shape)\n",
        "print(\"Shape of training labels: \", train_labels.shape)\n",
        "\n",
        "print(\"Shape of test image data: \", test_images.shape)\n",
        "print(\"Shape of test labels: \", test_labels.shape)"
      ],
      "execution_count": 3,
      "outputs": [
        {
          "output_type": "stream",
          "text": [
            "Shape of training image data:  (1000, 28, 28)\n",
            "Shape of training labels:  (1000,)\n",
            "Shape of test image data:  (1000, 28, 28)\n",
            "Shape of test labels:  (1000,)\n"
          ],
          "name": "stdout"
        }
      ]
    },
    {
      "cell_type": "code",
      "metadata": {
        "id": "mQay_O-1ke2-",
        "colab_type": "code",
        "colab": {
          "base_uri": "https://localhost:8080/",
          "height": 390
        },
        "outputId": "676d2f0f-3068-40e0-fadf-530bb2f51c8a"
      },
      "source": [
        "plt.title(f'Label = {train_labels[0]}')\n",
        "plt.imshow(train_images[0,:,:])\n",
        "plt.show()"
      ],
      "execution_count": 4,
      "outputs": [
        {
          "output_type": "display_data",
          "data": {
            "image/png": "[encoded data removed]",
            "text/plain": [
              "<Figure size 648x432 with 1 Axes>"
            ]
          },
          "metadata": {
            "tags": [],
            "needs_background": "light"
          }
        }
      ]
    },
    {
      "cell_type": "markdown",
      "metadata": {
        "id": "dEkYwPE-qs0f",
        "colab_type": "text"
      },
      "source": [
        "## Convolutional Layer"
      ]
    },
    {
      "cell_type": "code",
      "metadata": {
        "id": "V8q69KikATDc",
        "colab_type": "code",
        "colab": {}
      },
      "source": [
        "class Conv3:\n",
        "  ''' \n",
        "  3x3 CONV filter\n",
        "  padding = same\n",
        "  stride = 1\n",
        "  input = 2D numpy array of MNIST data\n",
        "  output = 3D numpy array\n",
        "  ''' \n",
        "\n",
        "  def __init__(self, n_C):\n",
        "    self.n_C = n_C\n",
        "\n",
        "    # Xavier initialization\n",
        "    self.W = np.random.randn(3, 3, n_C) / 3\n",
        "\n",
        "  def iter_slices(self, img):\n",
        "    n_H_prev, n_W_prev = img.shape\n",
        "\n",
        "    # n_H = n_H_prev - f + 1\n",
        "    # n_W = n_W_prev - f + 1\n",
        "    n_H = n_H_prev - 2\n",
        "    n_W = n_W_prev - 2\n",
        "\n",
        "    for i in range(n_H):\n",
        "      for j in range(n_W):\n",
        "        img_slice = img[i:(i + 3), j:(j + 3)]\n",
        "        yield img_slice, i, j\n",
        "\n",
        "  def forward(self, A_prev):\n",
        "    self.A_prev = A_prev\n",
        "\n",
        "    n_H_prev, n_W_prev = A_prev.shape\n",
        "    A = np.zeros((n_H_prev - 2, n_W_prev - 2, self.n_C))\n",
        "\n",
        "    for img_slice, i, j in self.iter_slices(A_prev):\n",
        "      A[i, j] = np.sum(img_slice[:,:,np.newaxis] * self.W, axis=(0,1))\n",
        "\n",
        "    return A\n",
        "\n",
        "  def backprop(self, dA, lr):\n",
        "    dW = np.zeros(self.W.shape)\n",
        "\n",
        "    for img_slice, i, j in self.iter_slices(self.A_prev):\n",
        "      for c in range(self.n_C):\n",
        "        dW[:,:,c] += dA[i, j, c] * img_slice\n",
        "\n",
        "    # Update filter parameters\n",
        "    self.W -= lr * dW\n",
        "\n",
        "    return None"
      ],
      "execution_count": 5,
      "outputs": []
    },
    {
      "cell_type": "markdown",
      "metadata": {
        "id": "tCU3WXnCqys7",
        "colab_type": "text"
      },
      "source": [
        "## Max Pooling Layer"
      ]
    },
    {
      "cell_type": "code",
      "metadata": {
        "id": "3XuCnuLE5B3E",
        "colab_type": "code",
        "colab": {}
      },
      "source": [
        "class MaxPool2:\n",
        "  ''' 2x2 Max Pool''' \n",
        "\n",
        "  def iter_slices(self, img):\n",
        "    n_H_prev, n_W_prev, _ = img.shape\n",
        "\n",
        "    # n_H = floor(n_H_prev / stride)\n",
        "    # n_W = floor(n_W_prev / stride)\n",
        "    n_H = n_H_prev // 2\n",
        "    n_W = n_W_prev // 2\n",
        "\n",
        "    for i in range(n_H):\n",
        "      for j in range(n_W):\n",
        "        img_slice = img[(i * 2):(i * 2 + 2), (j * 2):(j * 2 + 2)]\n",
        "        yield img_slice, i, j\n",
        "\n",
        "  def forward(self, A_prev):\n",
        "    self.A_prev = A_prev\n",
        "\n",
        "    n_H_prev, n_W_prev, n_C_prev = A_prev.shape\n",
        "    A = np.zeros((n_H_prev // 2, n_W_prev // 2, n_C_prev))\n",
        "\n",
        "    for img_slice, i, j in self.iter_slices(A_prev):\n",
        "      for c in range(n_C_prev):\n",
        "        A[i, j, c] = np.max(img_slice)\n",
        "\n",
        "    return A\n",
        "\n",
        "  def backprop(self, dA):\n",
        "    dA_prev = np.zeros(self.A_prev.shape)\n",
        "\n",
        "    for img_slice, i, j in self.iter_slices(self.A_prev):      \n",
        "      dA_prev[(i * 2):(i * 2 + 2), (j * 2):(j * 2 + 2)] = (img_slice == np.max(img_slice, axis=(0,1))) * dA[i, j]\n",
        "\n",
        "    return dA_prev"
      ],
      "execution_count": 6,
      "outputs": []
    },
    {
      "cell_type": "markdown",
      "metadata": {
        "id": "FNpsQ-3Uq7HP",
        "colab_type": "text"
      },
      "source": [
        "## Softmax Layer"
      ]
    },
    {
      "cell_type": "code",
      "metadata": {
        "id": "W-i5qTfZEQul",
        "colab_type": "code",
        "colab": {}
      },
      "source": [
        "class Dense:\n",
        "  '''Fully connected layer for softmax regression'''\n",
        "\n",
        "  def __init__(self, fan_in, fan_out):\n",
        "    self.W = np.random.randn(fan_in, fan_out) / np.sqrt(fan_in)\n",
        "    self.b = np.zeros(fan_out)\n",
        "\n",
        "  def forward(self, A_prev):\n",
        "    self.A_prev_shape = A_prev.shape\n",
        "\n",
        "    A_prev = A_prev.flatten()\n",
        "    self.A_prev = A_prev\n",
        "\n",
        "    Z = np.dot(A_prev, self.W) + self.b\n",
        "    self.Z = Z\n",
        "\n",
        "    exp = np.exp(Z)\n",
        "    A = exp / np.sum(exp, axis=0)\n",
        "    self.A = A\n",
        "    \n",
        "    return A\n",
        "\n",
        "  def backprop(self, label, lr):\n",
        "\n",
        "    # Convert  label to on-hot vector\n",
        "    label_oh = np.zeros(10)\n",
        "    label_oh[label] = 1\n",
        "\n",
        "    # Calculate dL/dZ = A - Y\n",
        "    dZ = self.A - label_oh\n",
        "\n",
        "    dW = np.dot(self.A_prev[np.newaxis].T, dZ[np.newaxis])\n",
        "    db = np.sum(dZ, axis=0, keepdims=True)\n",
        "    dA_prev = np.dot(dZ, self.W.T)\n",
        "\n",
        "    # Update network parameters\n",
        "    self.W -= lr * dW\n",
        "    self.b -= lr * db\n",
        "\n",
        "    return dA_prev.reshape(self.A_prev_shape)\n"
      ],
      "execution_count": 7,
      "outputs": []
    },
    {
      "cell_type": "code",
      "metadata": {
        "id": "nn_smoftqVKl",
        "colab_type": "code",
        "colab": {
          "base_uri": "https://localhost:8080/",
          "height": 952
        },
        "outputId": "6f1497ce-ed64-42e0-d7c5-6deccb452e41"
      },
      "source": [
        "# Initialize layer objects\n",
        "conv = Conv3(10)\n",
        "pool = MaxPool2()\n",
        "softmax = Dense(13*13*10, 10)\n",
        "\n",
        "# list to append loss & accuracy (per 100 steps)\n",
        "loss_history = []\n",
        "acc_history = []\n",
        "\n",
        "# Forward propagation\n",
        "def forward(image):\n",
        "  out = conv.forward(image / 255.)\n",
        "  out = pool.forward(out)\n",
        "  out = softmax.forward(out)\n",
        "  return out\n",
        "\n",
        "# Backpropagation / training process\n",
        "def train(image, label, lr=.005):\n",
        "  grad = softmax.backprop(label, lr)\n",
        "  grad = pool.backprop(grad)\n",
        "  grad = conv.backprop(grad, lr)\n",
        "\n",
        "print(\"--------------------Training initialized--------------------\")\n",
        "\n",
        "# Train the model for 5 epochs\n",
        "for epoch in range(5):\n",
        "\n",
        "  # Shuffle the training set\n",
        "  perm = np.random.permutation(len(train_images))\n",
        "  train_images = train_images[perm]\n",
        "  train_labels = train_labels[perm]\n",
        "\n",
        "  tot_loss = 0\n",
        "  tot_acc = 0\n",
        "  \n",
        "  for i, (image, label) in enumerate(zip(train_images, train_labels)):\n",
        "    if i > 0 and i % 100 == 99:\n",
        "      print('[Epoch: %d / Step: %04d]: Average Loss %.3f | Accuracy: %d%%'%(epoch+1, i+1, tot_loss/100, tot_acc))\n",
        "      loss_history.append(tot_loss)\n",
        "      acc_history.append(tot_acc)\n",
        "      tot_loss, tot_acc = 0, 0\n",
        "\n",
        "    # Forward propagation\n",
        "    out = forward(image)\n",
        "\n",
        "    # Cross entropy loss & accuracy\n",
        "    loss = -np.log(out[label])\n",
        "    acc = 1 if np.argmax(out) == label else 0\n",
        "    \n",
        "    # Back propagation\n",
        "    train(image, label, lr=0.005)\n",
        "\n",
        "    # Append loss & accuracy values\n",
        "    tot_loss += loss\n",
        "    tot_acc += acc\n",
        "\n",
        "# Cross validation\n",
        "print('\\n-----------Validation step-----------')\n",
        "tot_loss = 0\n",
        "tot_acc = 0\n",
        "for image, label in zip(test_images, test_labels):\n",
        "  out = forward(image)\n",
        "  loss = -np.log(out[label])\n",
        "  acc = 1 if np.argmax(out) == label else 0\n",
        "  tot_loss += loss\n",
        "  tot_acc += acc\n",
        "m = len(test_images)\n",
        "print('Average loss on test set: %.3f'%(tot_loss/m))\n",
        "print('Percentage accuracy on test set: %.2f'%(tot_acc/m*100))"
      ],
      "execution_count": 8,
      "outputs": [
        {
          "output_type": "stream",
          "text": [
            "--------------------Training initialized--------------------\n",
            "[Epoch: 1 / Step: 0100]: Average Loss 2.263 | Accuracy: 26%\n",
            "[Epoch: 1 / Step: 0200]: Average Loss 1.113 | Accuracy: 63%\n",
            "[Epoch: 1 / Step: 0300]: Average Loss 0.942 | Accuracy: 66%\n",
            "[Epoch: 1 / Step: 0400]: Average Loss 0.919 | Accuracy: 67%\n",
            "[Epoch: 1 / Step: 0500]: Average Loss 0.795 | Accuracy: 71%\n",
            "[Epoch: 1 / Step: 0600]: Average Loss 0.726 | Accuracy: 76%\n",
            "[Epoch: 1 / Step: 0700]: Average Loss 0.721 | Accuracy: 78%\n",
            "[Epoch: 1 / Step: 0800]: Average Loss 0.708 | Accuracy: 79%\n",
            "[Epoch: 1 / Step: 0900]: Average Loss 0.666 | Accuracy: 71%\n",
            "[Epoch: 1 / Step: 1000]: Average Loss 0.588 | Accuracy: 83%\n",
            "[Epoch: 2 / Step: 0100]: Average Loss 0.611 | Accuracy: 82%\n",
            "[Epoch: 2 / Step: 0200]: Average Loss 0.655 | Accuracy: 79%\n",
            "[Epoch: 2 / Step: 0300]: Average Loss 0.558 | Accuracy: 81%\n",
            "[Epoch: 2 / Step: 0400]: Average Loss 0.345 | Accuracy: 89%\n",
            "[Epoch: 2 / Step: 0500]: Average Loss 0.477 | Accuracy: 84%\n",
            "[Epoch: 2 / Step: 0600]: Average Loss 0.515 | Accuracy: 85%\n",
            "[Epoch: 2 / Step: 0700]: Average Loss 0.583 | Accuracy: 77%\n",
            "[Epoch: 2 / Step: 0800]: Average Loss 0.438 | Accuracy: 85%\n",
            "[Epoch: 2 / Step: 0900]: Average Loss 0.471 | Accuracy: 88%\n",
            "[Epoch: 2 / Step: 1000]: Average Loss 0.593 | Accuracy: 87%\n",
            "[Epoch: 3 / Step: 0100]: Average Loss 0.524 | Accuracy: 81%\n",
            "[Epoch: 3 / Step: 0200]: Average Loss 0.259 | Accuracy: 95%\n",
            "[Epoch: 3 / Step: 0300]: Average Loss 0.388 | Accuracy: 87%\n",
            "[Epoch: 3 / Step: 0400]: Average Loss 0.375 | Accuracy: 84%\n",
            "[Epoch: 3 / Step: 0500]: Average Loss 0.414 | Accuracy: 89%\n",
            "[Epoch: 3 / Step: 0600]: Average Loss 0.362 | Accuracy: 88%\n",
            "[Epoch: 3 / Step: 0700]: Average Loss 0.580 | Accuracy: 85%\n",
            "[Epoch: 3 / Step: 0800]: Average Loss 0.428 | Accuracy: 88%\n",
            "[Epoch: 3 / Step: 0900]: Average Loss 0.421 | Accuracy: 87%\n",
            "[Epoch: 3 / Step: 1000]: Average Loss 0.514 | Accuracy: 82%\n",
            "[Epoch: 4 / Step: 0100]: Average Loss 0.367 | Accuracy: 89%\n",
            "[Epoch: 4 / Step: 0200]: Average Loss 0.405 | Accuracy: 84%\n",
            "[Epoch: 4 / Step: 0300]: Average Loss 0.449 | Accuracy: 85%\n",
            "[Epoch: 4 / Step: 0400]: Average Loss 0.340 | Accuracy: 88%\n",
            "[Epoch: 4 / Step: 0500]: Average Loss 0.503 | Accuracy: 88%\n",
            "[Epoch: 4 / Step: 0600]: Average Loss 0.306 | Accuracy: 89%\n",
            "[Epoch: 4 / Step: 0700]: Average Loss 0.490 | Accuracy: 85%\n",
            "[Epoch: 4 / Step: 0800]: Average Loss 0.313 | Accuracy: 92%\n",
            "[Epoch: 4 / Step: 0900]: Average Loss 0.300 | Accuracy: 92%\n",
            "[Epoch: 4 / Step: 1000]: Average Loss 0.272 | Accuracy: 91%\n",
            "[Epoch: 5 / Step: 0100]: Average Loss 0.308 | Accuracy: 89%\n",
            "[Epoch: 5 / Step: 0200]: Average Loss 0.201 | Accuracy: 93%\n",
            "[Epoch: 5 / Step: 0300]: Average Loss 0.322 | Accuracy: 89%\n",
            "[Epoch: 5 / Step: 0400]: Average Loss 0.332 | Accuracy: 92%\n",
            "[Epoch: 5 / Step: 0500]: Average Loss 0.311 | Accuracy: 89%\n",
            "[Epoch: 5 / Step: 0600]: Average Loss 0.351 | Accuracy: 89%\n",
            "[Epoch: 5 / Step: 0700]: Average Loss 0.537 | Accuracy: 88%\n",
            "[Epoch: 5 / Step: 0800]: Average Loss 0.234 | Accuracy: 92%\n",
            "[Epoch: 5 / Step: 0900]: Average Loss 0.464 | Accuracy: 90%\n",
            "[Epoch: 5 / Step: 1000]: Average Loss 0.243 | Accuracy: 95%\n",
            "\n",
            "-----------Validation step-----------\n",
            "Average loss on test set: 0.463\n",
            "Percentage accuracy on test set: 85.50\n"
          ],
          "name": "stdout"
        }
      ]
    },
    {
      "cell_type": "markdown",
      "metadata": {
        "id": "fJUlhmMi94I7",
        "colab_type": "text"
      },
      "source": [
        "## Plotting cross entropy loss and accuracy"
      ]
    },
    {
      "cell_type": "code",
      "metadata": {
        "id": "G4xkx9MFyHno",
        "colab_type": "code",
        "colab": {
          "base_uri": "https://localhost:8080/",
          "height": 390
        },
        "outputId": "c5bc4251-5d75-4cd1-b7d9-428d7816e683"
      },
      "source": [
        "plt.figure(figsize=(18,6))\n",
        "\n",
        "plt.subplot(1, 2, 1)\n",
        "plt.plot(loss_history)\n",
        "plt.title('Loss')\n",
        "\n",
        "plt.subplot(1, 2, 2)\n",
        "plt.plot(acc_history)\n",
        "plt.title('Accuracy')\n",
        "\n",
        "plt.show()"
      ],
      "execution_count": 9,
      "outputs": [
        {
          "output_type": "display_data",
          "data": {
            "image/png": "[encoded data removed]",
            "text/plain": [
              "<Figure size 1296x432 with 2 Axes>"
            ]
          },
          "metadata": {
            "tags": [],
            "needs_background": "light"
          }
        }
      ]
    },
    {
      "cell_type": "markdown",
      "metadata": {
        "id": "6WUqoh9QAuwg",
        "colab_type": "text"
      },
      "source": [
        "## Testing out some examples unseen to the model"
      ]
    },
    {
      "cell_type": "code",
      "metadata": {
        "id": "Lbc93nzuLgtZ",
        "colab_type": "code",
        "colab": {
          "base_uri": "https://localhost:8080/",
          "height": 390
        },
        "outputId": "eeb572d8-1c84-42f9-ce90-7a2da4feeab3"
      },
      "source": [
        "new_img = mnist.test_images()[2000]\n",
        "new_label = mnist.test_labels()[2000]\n",
        "\n",
        "plt.title(f'Label = {new_label}')\n",
        "plt.imshow(new_img[:,:])\n",
        "plt.show()"
      ],
      "execution_count": 18,
      "outputs": [
        {
          "output_type": "display_data",
          "data": {
            "image/png": "[encoded data removed]",
            "text/plain": [
              "<Figure size 648x432 with 1 Axes>"
            ]
          },
          "metadata": {
            "tags": [],
            "needs_background": "light"
          }
        }
      ]
    },
    {
      "cell_type": "code",
      "metadata": {
        "id": "lWyDd22WMDsQ",
        "colab_type": "code",
        "colab": {
          "base_uri": "https://localhost:8080/",
          "height": 51
        },
        "outputId": "dc6355a5-6fd4-4666-f39d-8daf6f71411e"
      },
      "source": [
        "prediction = forward(new_img)\n",
        "\n",
        "print(\"Ground truth label: \", new_label)\n",
        "print(\"Predicted label: \", np.argmax(prediction))"
      ],
      "execution_count": 19,
      "outputs": [
        {
          "output_type": "stream",
          "text": [
            "Ground truth label:  6\n",
            "Predicted label:  6\n"
          ],
          "name": "stdout"
        }
      ]
    },
    {
      "cell_type": "code",
      "metadata": {
        "id": "70t3WkWfAhxy",
        "colab_type": "code",
        "colab": {
          "base_uri": "https://localhost:8080/",
          "height": 390
        },
        "outputId": "3f8d2abb-0180-4ad1-fe23-4e36b613db04"
      },
      "source": [
        "new_img = mnist.test_images()[2500]\n",
        "new_label = mnist.test_labels()[2500]\n",
        "\n",
        "plt.title(f'Label = {new_label}')\n",
        "plt.imshow(new_img[:,:])\n",
        "plt.show()"
      ],
      "execution_count": 26,
      "outputs": [
        {
          "output_type": "display_data",
          "data": {
            "image/png": "[encoded data removed]",
            "text/plain": [
              "<Figure size 648x432 with 1 Axes>"
            ]
          },
          "metadata": {
            "tags": [],
            "needs_background": "light"
          }
        }
      ]
    },
    {
      "cell_type": "code",
      "metadata": {
        "id": "gSJj0oOSAqqa",
        "colab_type": "code",
        "colab": {
          "base_uri": "https://localhost:8080/",
          "height": 51
        },
        "outputId": "8dd3b453-1e02-422e-9c43-11e07b741005"
      },
      "source": [
        "prediction = forward(new_img)\n",
        "\n",
        "print(\"Ground truth label: \", new_label)\n",
        "print(\"Predicted label: \", np.argmax(prediction))"
      ],
      "execution_count": 27,
      "outputs": [
        {
          "output_type": "stream",
          "text": [
            "Ground truth label:  2\n",
            "Predicted label:  2\n"
          ],
          "name": "stdout"
        }
      ]
    },
    {
      "cell_type": "markdown",
      "metadata": {
        "id": "LkjGu7IlA77u",
        "colab_type": "text"
      },
      "source": [
        "## One trickey example"
      ]
    },
    {
      "cell_type": "code",
      "metadata": {
        "id": "Wh_5WYTKM6JB",
        "colab_type": "code",
        "colab": {
          "base_uri": "https://localhost:8080/",
          "height": 390
        },
        "outputId": "7b9d14b3-baa7-4545-d134-095f83684e13"
      },
      "source": [
        "new_img = mnist.test_images()[4000]\n",
        "new_label = mnist.test_labels()[4000]\n",
        "\n",
        "plt.title(f'Label = {new_label}')\n",
        "plt.imshow(new_img[:,:])\n",
        "plt.show()"
      ],
      "execution_count": 28,
      "outputs": [
        {
          "output_type": "display_data",
          "data": {
            "image/png": "[encoded data removed]",
            "text/plain": [
              "<Figure size 648x432 with 1 Axes>"
            ]
          },
          "metadata": {
            "tags": [],
            "needs_background": "light"
          }
        }
      ]
    },
    {
      "cell_type": "code",
      "metadata": {
        "id": "fx22oE5gNLOv",
        "colab_type": "code",
        "colab": {
          "base_uri": "https://localhost:8080/",
          "height": 51
        },
        "outputId": "060ae980-87e2-4aa6-cfc8-ba17b9a0387f"
      },
      "source": [
        "prediction = forward(new_img)\n",
        "\n",
        "print(\"Ground truth label: \", new_label)\n",
        "print(\"Predicted label: \", np.argmax(prediction))"
      ],
      "execution_count": 29,
      "outputs": [
        {
          "output_type": "stream",
          "text": [
            "Ground truth label:  9\n",
            "Predicted label:  4\n"
          ],
          "name": "stdout"
        }
      ]
    }
  ]
}